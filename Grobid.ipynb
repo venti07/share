{
  "nbformat": 4,
  "nbformat_minor": 0,
  "metadata": {
    "colab": {
      "name": "Kopie von TestGrobid.ipynb",
      "provenance": [],
      "collapsed_sections": []
    },
    "kernelspec": {
      "name": "python3",
      "display_name": "Python 3"
    }
  },
  "cells": [
    {
      "cell_type": "code",
      "metadata": {
        "id": "YHsxlCL4yZHs",
        "colab": {
          "base_uri": "https://localhost:8080/"
        },
        "outputId": "b229f56c-05c2-42a4-edb1-7af08029a5c5"
      },
      "source": [
        "!git clone https://github.com/kermitt2/grobid_client_python\n",
        "%cd grobid_client_python\n",
        "!python3 setup.py install"
      ],
      "execution_count": 1,
      "outputs": [
        {
          "output_type": "stream",
          "name": "stdout",
          "text": [
            "Cloning into 'grobid_client_python'...\n",
            "remote: Enumerating objects: 269, done.\u001b[K\n",
            "remote: Counting objects: 100% (111/111), done.\u001b[K\n",
            "remote: Compressing objects: 100% (39/39), done.\u001b[K\n",
            "remote: Total 269 (delta 82), reused 73 (delta 72), pack-reused 158\u001b[K\n",
            "Receiving objects: 100% (269/269), 1.47 MiB | 4.55 MiB/s, done.\n",
            "Resolving deltas: 100% (156/156), done.\n",
            "/content/grobid_client_python\n",
            "running install\n",
            "running bdist_egg\n",
            "running egg_info\n",
            "creating grobid_client_python.egg-info\n",
            "writing grobid_client_python.egg-info/PKG-INFO\n",
            "writing dependency_links to grobid_client_python.egg-info/dependency_links.txt\n",
            "writing entry points to grobid_client_python.egg-info/entry_points.txt\n",
            "writing requirements to grobid_client_python.egg-info/requires.txt\n",
            "writing top-level names to grobid_client_python.egg-info/top_level.txt\n",
            "writing manifest file 'grobid_client_python.egg-info/SOURCES.txt'\n",
            "adding license file 'LICENSE'\n",
            "writing manifest file 'grobid_client_python.egg-info/SOURCES.txt'\n",
            "installing library code to build/bdist.linux-x86_64/egg\n",
            "running install_lib\n",
            "running build_py\n",
            "creating build\n",
            "creating build/lib\n",
            "creating build/lib/grobid_client\n",
            "copying grobid_client/__init__.py -> build/lib/grobid_client\n",
            "copying grobid_client/client.py -> build/lib/grobid_client\n",
            "copying grobid_client/grobid_client.py -> build/lib/grobid_client\n",
            "creating build/bdist.linux-x86_64\n",
            "creating build/bdist.linux-x86_64/egg\n",
            "creating build/bdist.linux-x86_64/egg/grobid_client\n",
            "copying build/lib/grobid_client/__init__.py -> build/bdist.linux-x86_64/egg/grobid_client\n",
            "copying build/lib/grobid_client/client.py -> build/bdist.linux-x86_64/egg/grobid_client\n",
            "copying build/lib/grobid_client/grobid_client.py -> build/bdist.linux-x86_64/egg/grobid_client\n",
            "byte-compiling build/bdist.linux-x86_64/egg/grobid_client/__init__.py to __init__.cpython-37.pyc\n",
            "byte-compiling build/bdist.linux-x86_64/egg/grobid_client/client.py to client.cpython-37.pyc\n",
            "byte-compiling build/bdist.linux-x86_64/egg/grobid_client/grobid_client.py to grobid_client.cpython-37.pyc\n",
            "creating build/bdist.linux-x86_64/egg/EGG-INFO\n",
            "copying grobid_client_python.egg-info/PKG-INFO -> build/bdist.linux-x86_64/egg/EGG-INFO\n",
            "copying grobid_client_python.egg-info/SOURCES.txt -> build/bdist.linux-x86_64/egg/EGG-INFO\n",
            "copying grobid_client_python.egg-info/dependency_links.txt -> build/bdist.linux-x86_64/egg/EGG-INFO\n",
            "copying grobid_client_python.egg-info/entry_points.txt -> build/bdist.linux-x86_64/egg/EGG-INFO\n",
            "copying grobid_client_python.egg-info/requires.txt -> build/bdist.linux-x86_64/egg/EGG-INFO\n",
            "copying grobid_client_python.egg-info/top_level.txt -> build/bdist.linux-x86_64/egg/EGG-INFO\n",
            "zip_safe flag not set; analyzing archive contents...\n",
            "creating dist\n",
            "creating 'dist/grobid_client_python-0.0.2-py3.7.egg' and adding 'build/bdist.linux-x86_64/egg' to it\n",
            "removing 'build/bdist.linux-x86_64/egg' (and everything under it)\n",
            "Processing grobid_client_python-0.0.2-py3.7.egg\n",
            "Copying grobid_client_python-0.0.2-py3.7.egg to /usr/local/lib/python3.7/dist-packages\n",
            "Adding grobid-client-python 0.0.2 to easy-install.pth file\n",
            "Installing grobid_client script to /usr/local/bin\n",
            "\n",
            "Installed /usr/local/lib/python3.7/dist-packages/grobid_client_python-0.0.2-py3.7.egg\n",
            "Processing dependencies for grobid-client-python==0.0.2\n",
            "Searching for requests==2.23.0\n",
            "Best match: requests 2.23.0\n",
            "Adding requests 2.23.0 to easy-install.pth file\n",
            "\n",
            "Using /usr/local/lib/python3.7/dist-packages\n",
            "Searching for chardet==3.0.4\n",
            "Best match: chardet 3.0.4\n",
            "Adding chardet 3.0.4 to easy-install.pth file\n",
            "Installing chardetect script to /usr/local/bin\n",
            "\n",
            "Using /usr/local/lib/python3.7/dist-packages\n",
            "Searching for idna==2.10\n",
            "Best match: idna 2.10\n",
            "Adding idna 2.10 to easy-install.pth file\n",
            "\n",
            "Using /usr/local/lib/python3.7/dist-packages\n",
            "Searching for urllib3==1.24.3\n",
            "Best match: urllib3 1.24.3\n",
            "Adding urllib3 1.24.3 to easy-install.pth file\n",
            "\n",
            "Using /usr/local/lib/python3.7/dist-packages\n",
            "Searching for certifi==2022.6.15\n",
            "Best match: certifi 2022.6.15\n",
            "Adding certifi 2022.6.15 to easy-install.pth file\n",
            "\n",
            "Using /usr/local/lib/python3.7/dist-packages\n",
            "Finished processing dependencies for grobid-client-python==0.0.2\n"
          ]
        }
      ]
    },
    {
      "cell_type": "code",
      "source": [
        "import json\n",
        "from grobid_client.grobid_client import GrobidClient\n",
        "#import pandas as pd\n",
        "#import html"
      ],
      "metadata": {
        "id": "rjsE60Z2JlN6"
      },
      "execution_count": 2,
      "outputs": []
    },
    {
      "cell_type": "code",
      "source": [
        "config = {\"grobid_server\": 'cloud.science-miner.com/grobid',\n",
        "          \"grobid_port\": '',\n",
        "          \"batch_size\": 1000,\n",
        "          \"sleep_time\": 5,\n",
        "          \"timeout\": 60,\n",
        "          \"coordinates\": [\"persName\", \"figure\", \"ref\", \"biblStruct\", \"formula\", \"s\"]}"
      ],
      "metadata": {
        "id": "vBQUdsyoIEvB"
      },
      "execution_count": 3,
      "outputs": []
    },
    {
      "cell_type": "code",
      "source": [
        "with open('config.json', 'w') as configfile:\n",
        "    json.dump(config, configfile, indent=2)"
      ],
      "metadata": {
        "id": "L29ovprjJRYI"
      },
      "execution_count": 4,
      "outputs": []
    },
    {
      "cell_type": "code",
      "source": [
        "!mkdir /content/input\n",
        "!mkdir /content/output"
      ],
      "metadata": {
        "id": "NpFRGhwbs71s"
      },
      "execution_count": 5,
      "outputs": []
    },
    {
      "cell_type": "code",
      "source": [
        "!wget https://bitcoin.org/bitcoin.pdf\n",
        "!cp /content/grobid_client_python/bitcoin.pdf /content/input/bitcoin.pdf"
      ],
      "metadata": {
        "colab": {
          "base_uri": "https://localhost:8080/"
        },
        "id": "Nvv7IWwudiNg",
        "outputId": "00368c4e-fea0-4674-cb87-29e91bb97149"
      },
      "execution_count": 6,
      "outputs": [
        {
          "output_type": "stream",
          "name": "stdout",
          "text": [
            "--2022-07-21 06:41:32--  https://bitcoin.org/bitcoin.pdf\n",
            "Resolving bitcoin.org (bitcoin.org)... 104.22.68.176, 172.67.40.154, 104.22.69.176, ...\n",
            "Connecting to bitcoin.org (bitcoin.org)|104.22.68.176|:443... connected.\n",
            "HTTP request sent, awaiting response... 200 OK\n",
            "Length: 184292 (180K) [application/pdf]\n",
            "Saving to: ‘bitcoin.pdf’\n",
            "\n",
            "bitcoin.pdf         100%[===================>] 179.97K   226KB/s    in 0.8s    \n",
            "\n",
            "2022-07-21 06:41:33 (226 KB/s) - ‘bitcoin.pdf’ saved [184292/184292]\n",
            "\n"
          ]
        }
      ]
    },
    {
      "cell_type": "code",
      "source": [
        "client = GrobidClient(config_path='/content/grobid_client_python/config.json')\n",
        "client.process(service='processFulltextDocument',\n",
        "               input_path='/content/input',\n",
        "               output='/content/output',\n",
        "               n=20,\n",
        "               consolidate_citations=True, \n",
        "               tei_coordinates=False,\n",
        "               force=True,\n",
        "               verbose=True)"
      ],
      "metadata": {
        "colab": {
          "base_uri": "https://localhost:8080/"
        },
        "id": "YPZ2ZQ7SIlh2",
        "outputId": "5e5dce22-87b2-47ed-8773-1b455bc725f0"
      },
      "execution_count": 7,
      "outputs": [
        {
          "output_type": "stream",
          "name": "stdout",
          "text": [
            "GROBID server is up and running\n",
            "bitcoin.pdf\n",
            "1 files to process in current batch\n"
          ]
        }
      ]
    }
  ]
}